{
  "nbformat": 4,
  "nbformat_minor": 0,
  "metadata": {
    "colab": {
      "name": "1031hw.ipynb",
      "provenance": [],
      "collapsed_sections": [],
      "mount_file_id": "1oiQ98lXJTD3ebmijAYemReUxOY4RkQSB",
      "authorship_tag": "ABX9TyMv70yZrz9yQViqc3t60KDd"
    },
    "kernelspec": {
      "name": "python3",
      "display_name": "Python 3"
    }
  },
  "cells": [
    {
      "cell_type": "code",
      "metadata": {
        "id": "uC9p6elc3P8S"
      },
      "source": [
        "import pandas as pd\n",
        "import numpy as np\n",
        "from sklearn.linear_model import LogisticRegression\n",
        "from sklearn.model_selection import train_test_split\n",
        "from sklearn.preprocessing import LabelEncoder\n",
        "import matplotlib.pyplot as plt\n",
        "import seaborn as sns\n",
        "from sklearn.impute import SimpleImputer"
      ],
      "execution_count": 1,
      "outputs": []
    },
    {
      "cell_type": "code",
      "metadata": {
        "id": "ofU409ys495X",
        "outputId": "cc863ca5-be69-4410-9f93-b9860616ad52",
        "colab": {
          "base_uri": "https://localhost:8080/",
          "height": 162
        }
      },
      "source": [
        "data = pd.read_csv('/content/drive/My Drive/機器學習作業/CSV/dermatologydata.csv',header=None)\n",
        "data.head(3)"
      ],
      "execution_count": 2,
      "outputs": [
        {
          "output_type": "execute_result",
          "data": {
            "text/html": [
              "<div>\n",
              "<style scoped>\n",
              "    .dataframe tbody tr th:only-of-type {\n",
              "        vertical-align: middle;\n",
              "    }\n",
              "\n",
              "    .dataframe tbody tr th {\n",
              "        vertical-align: top;\n",
              "    }\n",
              "\n",
              "    .dataframe thead th {\n",
              "        text-align: right;\n",
              "    }\n",
              "</style>\n",
              "<table border=\"1\" class=\"dataframe\">\n",
              "  <thead>\n",
              "    <tr style=\"text-align: right;\">\n",
              "      <th></th>\n",
              "      <th>0</th>\n",
              "      <th>1</th>\n",
              "      <th>2</th>\n",
              "      <th>3</th>\n",
              "      <th>4</th>\n",
              "      <th>5</th>\n",
              "      <th>6</th>\n",
              "      <th>7</th>\n",
              "      <th>8</th>\n",
              "      <th>9</th>\n",
              "      <th>10</th>\n",
              "      <th>11</th>\n",
              "      <th>12</th>\n",
              "      <th>13</th>\n",
              "      <th>14</th>\n",
              "      <th>15</th>\n",
              "      <th>16</th>\n",
              "      <th>17</th>\n",
              "      <th>18</th>\n",
              "      <th>19</th>\n",
              "      <th>20</th>\n",
              "      <th>21</th>\n",
              "      <th>22</th>\n",
              "      <th>23</th>\n",
              "      <th>24</th>\n",
              "      <th>25</th>\n",
              "      <th>26</th>\n",
              "      <th>27</th>\n",
              "      <th>28</th>\n",
              "      <th>29</th>\n",
              "      <th>30</th>\n",
              "      <th>31</th>\n",
              "      <th>32</th>\n",
              "      <th>33</th>\n",
              "      <th>34</th>\n",
              "    </tr>\n",
              "  </thead>\n",
              "  <tbody>\n",
              "    <tr>\n",
              "      <th>0</th>\n",
              "      <td>2</td>\n",
              "      <td>2</td>\n",
              "      <td>0</td>\n",
              "      <td>3</td>\n",
              "      <td>0</td>\n",
              "      <td>0</td>\n",
              "      <td>0</td>\n",
              "      <td>0</td>\n",
              "      <td>1</td>\n",
              "      <td>0</td>\n",
              "      <td>0</td>\n",
              "      <td>0</td>\n",
              "      <td>0</td>\n",
              "      <td>0</td>\n",
              "      <td>0</td>\n",
              "      <td>3</td>\n",
              "      <td>2</td>\n",
              "      <td>0</td>\n",
              "      <td>0</td>\n",
              "      <td>0</td>\n",
              "      <td>0</td>\n",
              "      <td>0</td>\n",
              "      <td>0</td>\n",
              "      <td>0</td>\n",
              "      <td>0</td>\n",
              "      <td>0</td>\n",
              "      <td>0</td>\n",
              "      <td>3</td>\n",
              "      <td>0</td>\n",
              "      <td>0</td>\n",
              "      <td>0</td>\n",
              "      <td>1</td>\n",
              "      <td>0</td>\n",
              "      <td>55</td>\n",
              "      <td>2</td>\n",
              "    </tr>\n",
              "    <tr>\n",
              "      <th>1</th>\n",
              "      <td>3</td>\n",
              "      <td>3</td>\n",
              "      <td>3</td>\n",
              "      <td>2</td>\n",
              "      <td>1</td>\n",
              "      <td>0</td>\n",
              "      <td>0</td>\n",
              "      <td>0</td>\n",
              "      <td>1</td>\n",
              "      <td>1</td>\n",
              "      <td>1</td>\n",
              "      <td>0</td>\n",
              "      <td>0</td>\n",
              "      <td>1</td>\n",
              "      <td>0</td>\n",
              "      <td>1</td>\n",
              "      <td>2</td>\n",
              "      <td>0</td>\n",
              "      <td>2</td>\n",
              "      <td>2</td>\n",
              "      <td>2</td>\n",
              "      <td>2</td>\n",
              "      <td>2</td>\n",
              "      <td>1</td>\n",
              "      <td>0</td>\n",
              "      <td>0</td>\n",
              "      <td>0</td>\n",
              "      <td>0</td>\n",
              "      <td>0</td>\n",
              "      <td>0</td>\n",
              "      <td>0</td>\n",
              "      <td>1</td>\n",
              "      <td>0</td>\n",
              "      <td>8</td>\n",
              "      <td>1</td>\n",
              "    </tr>\n",
              "    <tr>\n",
              "      <th>2</th>\n",
              "      <td>2</td>\n",
              "      <td>1</td>\n",
              "      <td>2</td>\n",
              "      <td>3</td>\n",
              "      <td>1</td>\n",
              "      <td>3</td>\n",
              "      <td>0</td>\n",
              "      <td>3</td>\n",
              "      <td>0</td>\n",
              "      <td>0</td>\n",
              "      <td>0</td>\n",
              "      <td>1</td>\n",
              "      <td>0</td>\n",
              "      <td>0</td>\n",
              "      <td>0</td>\n",
              "      <td>1</td>\n",
              "      <td>2</td>\n",
              "      <td>0</td>\n",
              "      <td>2</td>\n",
              "      <td>0</td>\n",
              "      <td>0</td>\n",
              "      <td>0</td>\n",
              "      <td>0</td>\n",
              "      <td>0</td>\n",
              "      <td>2</td>\n",
              "      <td>0</td>\n",
              "      <td>2</td>\n",
              "      <td>3</td>\n",
              "      <td>2</td>\n",
              "      <td>0</td>\n",
              "      <td>0</td>\n",
              "      <td>2</td>\n",
              "      <td>3</td>\n",
              "      <td>26</td>\n",
              "      <td>3</td>\n",
              "    </tr>\n",
              "  </tbody>\n",
              "</table>\n",
              "</div>"
            ],
            "text/plain": [
              "   0   1   2   3   4   5   6   7   8   ...  26  27  28  29  30  31  32  33  34\n",
              "0   2   2   0   3   0   0   0   0   1  ...   0   3   0   0   0   1   0  55   2\n",
              "1   3   3   3   2   1   0   0   0   1  ...   0   0   0   0   0   1   0   8   1\n",
              "2   2   1   2   3   1   3   0   3   0  ...   2   3   2   0   0   2   3  26   3\n",
              "\n",
              "[3 rows x 35 columns]"
            ]
          },
          "metadata": {
            "tags": []
          },
          "execution_count": 2
        }
      ]
    },
    {
      "cell_type": "code",
      "metadata": {
        "id": "l-aRioaM5Z-d",
        "outputId": "344f86e0-149b-4d90-f789-b6d0fda9edad",
        "colab": {
          "base_uri": "https://localhost:8080/",
          "height": 213
        }
      },
      "source": [
        "data.columns = ['erythema', 'scaling', 'definite borders', 'itching', 'koebner phenomenon', 'polygonal papules', 'follicular papules', 'oral mucosal involvement', 'knee and elbow involvement', 'scalp involvement', 'family history', 'melanin incontinence', 'eosinophils in the infiltrate', 'PNL infiltrate', 'fibrosis of the papillary dermis', 'exocytosis', 'acanthosis', 'hyperkeratosis', 'parakeratosis', 'clubbing of the rete ridges', 'elongation of the rete ridges', 'thinning of the suprapapillary epidermis', 'spongiform pustule', 'munro microabcess', 'focal hypergranulosis', 'disappearance of the granular layer', 'vacuolisation and damage of basal layer', 'spongiosis', 'saw-tooth appearance of retes', 'follicular horn plug', 'perifollicular parakeratosis', 'inflammatory monoluclear inflitrate', 'band-like infiltrate', 'Age', 'class']\n",
        "data.head(3)"
      ],
      "execution_count": 3,
      "outputs": [
        {
          "output_type": "execute_result",
          "data": {
            "text/html": [
              "<div>\n",
              "<style scoped>\n",
              "    .dataframe tbody tr th:only-of-type {\n",
              "        vertical-align: middle;\n",
              "    }\n",
              "\n",
              "    .dataframe tbody tr th {\n",
              "        vertical-align: top;\n",
              "    }\n",
              "\n",
              "    .dataframe thead th {\n",
              "        text-align: right;\n",
              "    }\n",
              "</style>\n",
              "<table border=\"1\" class=\"dataframe\">\n",
              "  <thead>\n",
              "    <tr style=\"text-align: right;\">\n",
              "      <th></th>\n",
              "      <th>erythema</th>\n",
              "      <th>scaling</th>\n",
              "      <th>definite borders</th>\n",
              "      <th>itching</th>\n",
              "      <th>koebner phenomenon</th>\n",
              "      <th>polygonal papules</th>\n",
              "      <th>follicular papules</th>\n",
              "      <th>oral mucosal involvement</th>\n",
              "      <th>knee and elbow involvement</th>\n",
              "      <th>scalp involvement</th>\n",
              "      <th>family history</th>\n",
              "      <th>melanin incontinence</th>\n",
              "      <th>eosinophils in the infiltrate</th>\n",
              "      <th>PNL infiltrate</th>\n",
              "      <th>fibrosis of the papillary dermis</th>\n",
              "      <th>exocytosis</th>\n",
              "      <th>acanthosis</th>\n",
              "      <th>hyperkeratosis</th>\n",
              "      <th>parakeratosis</th>\n",
              "      <th>clubbing of the rete ridges</th>\n",
              "      <th>elongation of the rete ridges</th>\n",
              "      <th>thinning of the suprapapillary epidermis</th>\n",
              "      <th>spongiform pustule</th>\n",
              "      <th>munro microabcess</th>\n",
              "      <th>focal hypergranulosis</th>\n",
              "      <th>disappearance of the granular layer</th>\n",
              "      <th>vacuolisation and damage of basal layer</th>\n",
              "      <th>spongiosis</th>\n",
              "      <th>saw-tooth appearance of retes</th>\n",
              "      <th>follicular horn plug</th>\n",
              "      <th>perifollicular parakeratosis</th>\n",
              "      <th>inflammatory monoluclear inflitrate</th>\n",
              "      <th>band-like infiltrate</th>\n",
              "      <th>Age</th>\n",
              "      <th>class</th>\n",
              "    </tr>\n",
              "  </thead>\n",
              "  <tbody>\n",
              "    <tr>\n",
              "      <th>0</th>\n",
              "      <td>2</td>\n",
              "      <td>2</td>\n",
              "      <td>0</td>\n",
              "      <td>3</td>\n",
              "      <td>0</td>\n",
              "      <td>0</td>\n",
              "      <td>0</td>\n",
              "      <td>0</td>\n",
              "      <td>1</td>\n",
              "      <td>0</td>\n",
              "      <td>0</td>\n",
              "      <td>0</td>\n",
              "      <td>0</td>\n",
              "      <td>0</td>\n",
              "      <td>0</td>\n",
              "      <td>3</td>\n",
              "      <td>2</td>\n",
              "      <td>0</td>\n",
              "      <td>0</td>\n",
              "      <td>0</td>\n",
              "      <td>0</td>\n",
              "      <td>0</td>\n",
              "      <td>0</td>\n",
              "      <td>0</td>\n",
              "      <td>0</td>\n",
              "      <td>0</td>\n",
              "      <td>0</td>\n",
              "      <td>3</td>\n",
              "      <td>0</td>\n",
              "      <td>0</td>\n",
              "      <td>0</td>\n",
              "      <td>1</td>\n",
              "      <td>0</td>\n",
              "      <td>55</td>\n",
              "      <td>2</td>\n",
              "    </tr>\n",
              "    <tr>\n",
              "      <th>1</th>\n",
              "      <td>3</td>\n",
              "      <td>3</td>\n",
              "      <td>3</td>\n",
              "      <td>2</td>\n",
              "      <td>1</td>\n",
              "      <td>0</td>\n",
              "      <td>0</td>\n",
              "      <td>0</td>\n",
              "      <td>1</td>\n",
              "      <td>1</td>\n",
              "      <td>1</td>\n",
              "      <td>0</td>\n",
              "      <td>0</td>\n",
              "      <td>1</td>\n",
              "      <td>0</td>\n",
              "      <td>1</td>\n",
              "      <td>2</td>\n",
              "      <td>0</td>\n",
              "      <td>2</td>\n",
              "      <td>2</td>\n",
              "      <td>2</td>\n",
              "      <td>2</td>\n",
              "      <td>2</td>\n",
              "      <td>1</td>\n",
              "      <td>0</td>\n",
              "      <td>0</td>\n",
              "      <td>0</td>\n",
              "      <td>0</td>\n",
              "      <td>0</td>\n",
              "      <td>0</td>\n",
              "      <td>0</td>\n",
              "      <td>1</td>\n",
              "      <td>0</td>\n",
              "      <td>8</td>\n",
              "      <td>1</td>\n",
              "    </tr>\n",
              "    <tr>\n",
              "      <th>2</th>\n",
              "      <td>2</td>\n",
              "      <td>1</td>\n",
              "      <td>2</td>\n",
              "      <td>3</td>\n",
              "      <td>1</td>\n",
              "      <td>3</td>\n",
              "      <td>0</td>\n",
              "      <td>3</td>\n",
              "      <td>0</td>\n",
              "      <td>0</td>\n",
              "      <td>0</td>\n",
              "      <td>1</td>\n",
              "      <td>0</td>\n",
              "      <td>0</td>\n",
              "      <td>0</td>\n",
              "      <td>1</td>\n",
              "      <td>2</td>\n",
              "      <td>0</td>\n",
              "      <td>2</td>\n",
              "      <td>0</td>\n",
              "      <td>0</td>\n",
              "      <td>0</td>\n",
              "      <td>0</td>\n",
              "      <td>0</td>\n",
              "      <td>2</td>\n",
              "      <td>0</td>\n",
              "      <td>2</td>\n",
              "      <td>3</td>\n",
              "      <td>2</td>\n",
              "      <td>0</td>\n",
              "      <td>0</td>\n",
              "      <td>2</td>\n",
              "      <td>3</td>\n",
              "      <td>26</td>\n",
              "      <td>3</td>\n",
              "    </tr>\n",
              "  </tbody>\n",
              "</table>\n",
              "</div>"
            ],
            "text/plain": [
              "   erythema  scaling  definite borders  ...  band-like infiltrate  Age  class\n",
              "0         2        2                 0  ...                     0   55      2\n",
              "1         3        3                 3  ...                     0    8      1\n",
              "2         2        1                 2  ...                     3   26      3\n",
              "\n",
              "[3 rows x 35 columns]"
            ]
          },
          "metadata": {
            "tags": []
          },
          "execution_count": 3
        }
      ]
    },
    {
      "cell_type": "markdown",
      "metadata": {
        "id": "a0BwWuLdIkCL"
      },
      "source": [
        "##處理Age的錯誤值"
      ]
    },
    {
      "cell_type": "code",
      "metadata": {
        "id": "QcbmWkTDJBpk",
        "outputId": "a8e2f2e3-e828-4e0f-adef-6b2579d4965f",
        "colab": {
          "base_uri": "https://localhost:8080/"
        }
      },
      "source": [
        "data.info()"
      ],
      "execution_count": 4,
      "outputs": [
        {
          "output_type": "stream",
          "text": [
            "<class 'pandas.core.frame.DataFrame'>\n",
            "RangeIndex: 366 entries, 0 to 365\n",
            "Data columns (total 35 columns):\n",
            " #   Column                                    Non-Null Count  Dtype \n",
            "---  ------                                    --------------  ----- \n",
            " 0   erythema                                  366 non-null    int64 \n",
            " 1   scaling                                   366 non-null    int64 \n",
            " 2   definite borders                          366 non-null    int64 \n",
            " 3   itching                                   366 non-null    int64 \n",
            " 4   koebner phenomenon                        366 non-null    int64 \n",
            " 5   polygonal papules                         366 non-null    int64 \n",
            " 6   follicular papules                        366 non-null    int64 \n",
            " 7   oral mucosal involvement                  366 non-null    int64 \n",
            " 8   knee and elbow involvement                366 non-null    int64 \n",
            " 9   scalp involvement                         366 non-null    int64 \n",
            " 10  family history                            366 non-null    int64 \n",
            " 11  melanin incontinence                      366 non-null    int64 \n",
            " 12  eosinophils in the infiltrate             366 non-null    int64 \n",
            " 13  PNL infiltrate                            366 non-null    int64 \n",
            " 14  fibrosis of the papillary dermis          366 non-null    int64 \n",
            " 15  exocytosis                                366 non-null    int64 \n",
            " 16  acanthosis                                366 non-null    int64 \n",
            " 17  hyperkeratosis                            366 non-null    int64 \n",
            " 18  parakeratosis                             366 non-null    int64 \n",
            " 19  clubbing of the rete ridges               366 non-null    int64 \n",
            " 20  elongation of the rete ridges             366 non-null    int64 \n",
            " 21  thinning of the suprapapillary epidermis  366 non-null    int64 \n",
            " 22  spongiform pustule                        366 non-null    int64 \n",
            " 23  munro microabcess                         366 non-null    int64 \n",
            " 24  focal hypergranulosis                     366 non-null    int64 \n",
            " 25  disappearance of the granular layer       366 non-null    int64 \n",
            " 26  vacuolisation and damage of basal layer   366 non-null    int64 \n",
            " 27  spongiosis                                366 non-null    int64 \n",
            " 28  saw-tooth appearance of retes             366 non-null    int64 \n",
            " 29  follicular horn plug                      366 non-null    int64 \n",
            " 30  perifollicular parakeratosis              366 non-null    int64 \n",
            " 31  inflammatory monoluclear inflitrate       366 non-null    int64 \n",
            " 32  band-like infiltrate                      366 non-null    int64 \n",
            " 33  Age                                       366 non-null    object\n",
            " 34  class                                     366 non-null    int64 \n",
            "dtypes: int64(34), object(1)\n",
            "memory usage: 100.2+ KB\n"
          ],
          "name": "stdout"
        }
      ]
    },
    {
      "cell_type": "code",
      "metadata": {
        "id": "xzsmFQyACy7n",
        "outputId": "4ba500c6-8d8d-4db2-eda1-570f1ed97215",
        "colab": {
          "base_uri": "https://localhost:8080/"
        }
      },
      "source": [
        "data['Age'].unique()"
      ],
      "execution_count": 5,
      "outputs": [
        {
          "output_type": "execute_result",
          "data": {
            "text/plain": [
              "array(['55', '8', '26', '40', '45', '41', '18', '57', '22', '30', '20',\n",
              "       '21', '10', '65', '38', '23', '17', '51', '42', '44', '33', '43',\n",
              "       '50', '34', '?', '15', '46', '62', '35', '48', '12', '52', '60',\n",
              "       '32', '19', '29', '25', '36', '13', '27', '31', '28', '64', '39',\n",
              "       '47', '16', '0', '7', '70', '37', '61', '67', '56', '53', '24',\n",
              "       '58', '49', '63', '68', '9', '75'], dtype=object)"
            ]
          },
          "metadata": {
            "tags": []
          },
          "execution_count": 5
        }
      ]
    },
    {
      "cell_type": "code",
      "metadata": {
        "id": "nN99EVw1DJsy",
        "outputId": "b99936cc-b7ed-455c-dc4c-c28a95d72078",
        "colab": {
          "base_uri": "https://localhost:8080/"
        }
      },
      "source": [
        "count=0\n",
        "for x in data['Age']:\n",
        "  if x == '?':\n",
        "    data['Age'][count] = np.nan\n",
        "  count+=1"
      ],
      "execution_count": 6,
      "outputs": [
        {
          "output_type": "stream",
          "text": [
            "/usr/local/lib/python3.6/dist-packages/ipykernel_launcher.py:4: SettingWithCopyWarning: \n",
            "A value is trying to be set on a copy of a slice from a DataFrame\n",
            "\n",
            "See the caveats in the documentation: https://pandas.pydata.org/pandas-docs/stable/user_guide/indexing.html#returning-a-view-versus-a-copy\n",
            "  after removing the cwd from sys.path.\n"
          ],
          "name": "stderr"
        }
      ]
    },
    {
      "cell_type": "code",
      "metadata": {
        "id": "Cmkf1c9iDZyi",
        "outputId": "116f0938-d58f-4cd4-817b-0efcd92764ea",
        "colab": {
          "base_uri": "https://localhost:8080/"
        }
      },
      "source": [
        "data['Age'].unique()"
      ],
      "execution_count": 7,
      "outputs": [
        {
          "output_type": "execute_result",
          "data": {
            "text/plain": [
              "array(['55', '8', '26', '40', '45', '41', '18', '57', '22', '30', '20',\n",
              "       '21', '10', '65', '38', '23', '17', '51', '42', '44', '33', '43',\n",
              "       '50', '34', nan, '15', '46', '62', '35', '48', '12', '52', '60',\n",
              "       '32', '19', '29', '25', '36', '13', '27', '31', '28', '64', '39',\n",
              "       '47', '16', '0', '7', '70', '37', '61', '67', '56', '53', '24',\n",
              "       '58', '49', '63', '68', '9', '75'], dtype=object)"
            ]
          },
          "metadata": {
            "tags": []
          },
          "execution_count": 7
        }
      ]
    },
    {
      "cell_type": "code",
      "metadata": {
        "id": "8TzYY3sqGn2H",
        "outputId": "0289e03d-4dc6-4bc6-b4a6-75ad177c421a",
        "colab": {
          "base_uri": "https://localhost:8080/"
        }
      },
      "source": [
        "data.isnull().sum()"
      ],
      "execution_count": 8,
      "outputs": [
        {
          "output_type": "execute_result",
          "data": {
            "text/plain": [
              "erythema                                    0\n",
              "scaling                                     0\n",
              "definite borders                            0\n",
              "itching                                     0\n",
              "koebner phenomenon                          0\n",
              "polygonal papules                           0\n",
              "follicular papules                          0\n",
              "oral mucosal involvement                    0\n",
              "knee and elbow involvement                  0\n",
              "scalp involvement                           0\n",
              "family history                              0\n",
              "melanin incontinence                        0\n",
              "eosinophils in the infiltrate               0\n",
              "PNL infiltrate                              0\n",
              "fibrosis of the papillary dermis            0\n",
              "exocytosis                                  0\n",
              "acanthosis                                  0\n",
              "hyperkeratosis                              0\n",
              "parakeratosis                               0\n",
              "clubbing of the rete ridges                 0\n",
              "elongation of the rete ridges               0\n",
              "thinning of the suprapapillary epidermis    0\n",
              "spongiform pustule                          0\n",
              "munro microabcess                           0\n",
              "focal hypergranulosis                       0\n",
              "disappearance of the granular layer         0\n",
              "vacuolisation and damage of basal layer     0\n",
              "spongiosis                                  0\n",
              "saw-tooth appearance of retes               0\n",
              "follicular horn plug                        0\n",
              "perifollicular parakeratosis                0\n",
              "inflammatory monoluclear inflitrate         0\n",
              "band-like infiltrate                        0\n",
              "Age                                         8\n",
              "class                                       0\n",
              "dtype: int64"
            ]
          },
          "metadata": {
            "tags": []
          },
          "execution_count": 8
        }
      ]
    },
    {
      "cell_type": "code",
      "metadata": {
        "id": "VJgvpSj-JSQL",
        "outputId": "2c895bf9-ba0d-4bc3-8e61-3a94923f7dd7",
        "colab": {
          "base_uri": "https://localhost:8080/"
        }
      },
      "source": [
        "#NaN屬於float類別\n",
        "data['Age'].astype(float)"
      ],
      "execution_count": 9,
      "outputs": [
        {
          "output_type": "execute_result",
          "data": {
            "text/plain": [
              "0      55.0\n",
              "1       8.0\n",
              "2      26.0\n",
              "3      40.0\n",
              "4      45.0\n",
              "       ... \n",
              "361    25.0\n",
              "362    36.0\n",
              "363    28.0\n",
              "364    50.0\n",
              "365    35.0\n",
              "Name: Age, Length: 366, dtype: float64"
            ]
          },
          "metadata": {
            "tags": []
          },
          "execution_count": 9
        }
      ]
    },
    {
      "cell_type": "code",
      "metadata": {
        "id": "VIhsRI93IQx7"
      },
      "source": [
        "imputer = SimpleImputer(missing_values=np.nan, strategy='mean')"
      ],
      "execution_count": 10,
      "outputs": []
    },
    {
      "cell_type": "code",
      "metadata": {
        "id": "ZsmVdUlXI7RZ"
      },
      "source": [
        "x = data.iloc[:].values\n",
        "imputer = imputer.fit(x[:,33:34])\n",
        "x[:,33:34] = imputer.transform(x[:,33:34])\n",
        "data_mv = pd.DataFrame(x)"
      ],
      "execution_count": 11,
      "outputs": []
    },
    {
      "cell_type": "code",
      "metadata": {
        "id": "k3OSkTlDOBx4",
        "outputId": "9ba070d8-330e-474f-e5d0-815133d2b734",
        "colab": {
          "base_uri": "https://localhost:8080/",
          "height": 213
        }
      },
      "source": [
        "data_mv.columns = ['erythema', 'scaling', 'definite borders', 'itching', 'koebner phenomenon', 'polygonal papules', 'follicular papules', 'oral mucosal involvement', 'knee and elbow involvement', 'scalp involvement', 'family history', 'melanin incontinence', 'eosinophils in the infiltrate', 'PNL infiltrate', 'fibrosis of the papillary dermis', 'exocytosis', 'acanthosis', 'hyperkeratosis', 'parakeratosis', 'clubbing of the rete ridges', 'elongation of the rete ridges', 'thinning of the suprapapillary epidermis', 'spongiform pustule', 'munro microabcess', 'focal hypergranulosis', 'disappearance of the granular layer', 'vacuolisation and damage of basal layer', 'spongiosis', 'saw-tooth appearance of retes', 'follicular horn plug', 'perifollicular parakeratosis', 'inflammatory monoluclear inflitrate', 'band-like infiltrate', 'Age', 'class']\n",
        "data_mv.head(3)"
      ],
      "execution_count": 12,
      "outputs": [
        {
          "output_type": "execute_result",
          "data": {
            "text/html": [
              "<div>\n",
              "<style scoped>\n",
              "    .dataframe tbody tr th:only-of-type {\n",
              "        vertical-align: middle;\n",
              "    }\n",
              "\n",
              "    .dataframe tbody tr th {\n",
              "        vertical-align: top;\n",
              "    }\n",
              "\n",
              "    .dataframe thead th {\n",
              "        text-align: right;\n",
              "    }\n",
              "</style>\n",
              "<table border=\"1\" class=\"dataframe\">\n",
              "  <thead>\n",
              "    <tr style=\"text-align: right;\">\n",
              "      <th></th>\n",
              "      <th>erythema</th>\n",
              "      <th>scaling</th>\n",
              "      <th>definite borders</th>\n",
              "      <th>itching</th>\n",
              "      <th>koebner phenomenon</th>\n",
              "      <th>polygonal papules</th>\n",
              "      <th>follicular papules</th>\n",
              "      <th>oral mucosal involvement</th>\n",
              "      <th>knee and elbow involvement</th>\n",
              "      <th>scalp involvement</th>\n",
              "      <th>family history</th>\n",
              "      <th>melanin incontinence</th>\n",
              "      <th>eosinophils in the infiltrate</th>\n",
              "      <th>PNL infiltrate</th>\n",
              "      <th>fibrosis of the papillary dermis</th>\n",
              "      <th>exocytosis</th>\n",
              "      <th>acanthosis</th>\n",
              "      <th>hyperkeratosis</th>\n",
              "      <th>parakeratosis</th>\n",
              "      <th>clubbing of the rete ridges</th>\n",
              "      <th>elongation of the rete ridges</th>\n",
              "      <th>thinning of the suprapapillary epidermis</th>\n",
              "      <th>spongiform pustule</th>\n",
              "      <th>munro microabcess</th>\n",
              "      <th>focal hypergranulosis</th>\n",
              "      <th>disappearance of the granular layer</th>\n",
              "      <th>vacuolisation and damage of basal layer</th>\n",
              "      <th>spongiosis</th>\n",
              "      <th>saw-tooth appearance of retes</th>\n",
              "      <th>follicular horn plug</th>\n",
              "      <th>perifollicular parakeratosis</th>\n",
              "      <th>inflammatory monoluclear inflitrate</th>\n",
              "      <th>band-like infiltrate</th>\n",
              "      <th>Age</th>\n",
              "      <th>class</th>\n",
              "    </tr>\n",
              "  </thead>\n",
              "  <tbody>\n",
              "    <tr>\n",
              "      <th>0</th>\n",
              "      <td>2</td>\n",
              "      <td>2</td>\n",
              "      <td>0</td>\n",
              "      <td>3</td>\n",
              "      <td>0</td>\n",
              "      <td>0</td>\n",
              "      <td>0</td>\n",
              "      <td>0</td>\n",
              "      <td>1</td>\n",
              "      <td>0</td>\n",
              "      <td>0</td>\n",
              "      <td>0</td>\n",
              "      <td>0</td>\n",
              "      <td>0</td>\n",
              "      <td>0</td>\n",
              "      <td>3</td>\n",
              "      <td>2</td>\n",
              "      <td>0</td>\n",
              "      <td>0</td>\n",
              "      <td>0</td>\n",
              "      <td>0</td>\n",
              "      <td>0</td>\n",
              "      <td>0</td>\n",
              "      <td>0</td>\n",
              "      <td>0</td>\n",
              "      <td>0</td>\n",
              "      <td>0</td>\n",
              "      <td>3</td>\n",
              "      <td>0</td>\n",
              "      <td>0</td>\n",
              "      <td>0</td>\n",
              "      <td>1</td>\n",
              "      <td>0</td>\n",
              "      <td>55</td>\n",
              "      <td>2</td>\n",
              "    </tr>\n",
              "    <tr>\n",
              "      <th>1</th>\n",
              "      <td>3</td>\n",
              "      <td>3</td>\n",
              "      <td>3</td>\n",
              "      <td>2</td>\n",
              "      <td>1</td>\n",
              "      <td>0</td>\n",
              "      <td>0</td>\n",
              "      <td>0</td>\n",
              "      <td>1</td>\n",
              "      <td>1</td>\n",
              "      <td>1</td>\n",
              "      <td>0</td>\n",
              "      <td>0</td>\n",
              "      <td>1</td>\n",
              "      <td>0</td>\n",
              "      <td>1</td>\n",
              "      <td>2</td>\n",
              "      <td>0</td>\n",
              "      <td>2</td>\n",
              "      <td>2</td>\n",
              "      <td>2</td>\n",
              "      <td>2</td>\n",
              "      <td>2</td>\n",
              "      <td>1</td>\n",
              "      <td>0</td>\n",
              "      <td>0</td>\n",
              "      <td>0</td>\n",
              "      <td>0</td>\n",
              "      <td>0</td>\n",
              "      <td>0</td>\n",
              "      <td>0</td>\n",
              "      <td>1</td>\n",
              "      <td>0</td>\n",
              "      <td>8</td>\n",
              "      <td>1</td>\n",
              "    </tr>\n",
              "    <tr>\n",
              "      <th>2</th>\n",
              "      <td>2</td>\n",
              "      <td>1</td>\n",
              "      <td>2</td>\n",
              "      <td>3</td>\n",
              "      <td>1</td>\n",
              "      <td>3</td>\n",
              "      <td>0</td>\n",
              "      <td>3</td>\n",
              "      <td>0</td>\n",
              "      <td>0</td>\n",
              "      <td>0</td>\n",
              "      <td>1</td>\n",
              "      <td>0</td>\n",
              "      <td>0</td>\n",
              "      <td>0</td>\n",
              "      <td>1</td>\n",
              "      <td>2</td>\n",
              "      <td>0</td>\n",
              "      <td>2</td>\n",
              "      <td>0</td>\n",
              "      <td>0</td>\n",
              "      <td>0</td>\n",
              "      <td>0</td>\n",
              "      <td>0</td>\n",
              "      <td>2</td>\n",
              "      <td>0</td>\n",
              "      <td>2</td>\n",
              "      <td>3</td>\n",
              "      <td>2</td>\n",
              "      <td>0</td>\n",
              "      <td>0</td>\n",
              "      <td>2</td>\n",
              "      <td>3</td>\n",
              "      <td>26</td>\n",
              "      <td>3</td>\n",
              "    </tr>\n",
              "  </tbody>\n",
              "</table>\n",
              "</div>"
            ],
            "text/plain": [
              "  erythema scaling definite borders  ... band-like infiltrate Age class\n",
              "0        2       2                0  ...                    0  55     2\n",
              "1        3       3                3  ...                    0   8     1\n",
              "2        2       1                2  ...                    3  26     3\n",
              "\n",
              "[3 rows x 35 columns]"
            ]
          },
          "metadata": {
            "tags": []
          },
          "execution_count": 12
        }
      ]
    },
    {
      "cell_type": "code",
      "metadata": {
        "id": "8LJu6dPEL-mj",
        "outputId": "c9ec5319-acd9-416f-dedd-1e8ee90a0895",
        "colab": {
          "base_uri": "https://localhost:8080/"
        }
      },
      "source": [
        "data_mv['Age'].unique()"
      ],
      "execution_count": 13,
      "outputs": [
        {
          "output_type": "execute_result",
          "data": {
            "text/plain": [
              "array([55.0, 8.0, 26.0, 40.0, 45.0, 41.0, 18.0, 57.0, 22.0, 30.0, 20.0,\n",
              "       21.0, 10.0, 65.0, 38.0, 23.0, 17.0, 51.0, 42.0, 44.0, 33.0, 43.0,\n",
              "       50.0, 34.0, 36.29608938547486, 15.0, 46.0, 62.0, 35.0, 48.0, 12.0,\n",
              "       52.0, 60.0, 32.0, 19.0, 29.0, 25.0, 36.0, 13.0, 27.0, 31.0, 28.0,\n",
              "       64.0, 39.0, 47.0, 16.0, 0.0, 7.0, 70.0, 37.0, 61.0, 67.0, 56.0,\n",
              "       53.0, 24.0, 58.0, 49.0, 63.0, 68.0, 9.0, 75.0], dtype=object)"
            ]
          },
          "metadata": {
            "tags": []
          },
          "execution_count": 13
        }
      ]
    },
    {
      "cell_type": "code",
      "metadata": {
        "id": "vEsGXfxfR_Lh"
      },
      "source": [
        "data_mv = data_mv.astype(int)"
      ],
      "execution_count": 14,
      "outputs": []
    },
    {
      "cell_type": "code",
      "metadata": {
        "id": "OW9v4ylCJmJW",
        "outputId": "7350da17-0b71-4de9-947e-48ec347b629a",
        "colab": {
          "base_uri": "https://localhost:8080/"
        }
      },
      "source": [
        "data_mv.isnull().sum()"
      ],
      "execution_count": 15,
      "outputs": [
        {
          "output_type": "execute_result",
          "data": {
            "text/plain": [
              "erythema                                    0\n",
              "scaling                                     0\n",
              "definite borders                            0\n",
              "itching                                     0\n",
              "koebner phenomenon                          0\n",
              "polygonal papules                           0\n",
              "follicular papules                          0\n",
              "oral mucosal involvement                    0\n",
              "knee and elbow involvement                  0\n",
              "scalp involvement                           0\n",
              "family history                              0\n",
              "melanin incontinence                        0\n",
              "eosinophils in the infiltrate               0\n",
              "PNL infiltrate                              0\n",
              "fibrosis of the papillary dermis            0\n",
              "exocytosis                                  0\n",
              "acanthosis                                  0\n",
              "hyperkeratosis                              0\n",
              "parakeratosis                               0\n",
              "clubbing of the rete ridges                 0\n",
              "elongation of the rete ridges               0\n",
              "thinning of the suprapapillary epidermis    0\n",
              "spongiform pustule                          0\n",
              "munro microabcess                           0\n",
              "focal hypergranulosis                       0\n",
              "disappearance of the granular layer         0\n",
              "vacuolisation and damage of basal layer     0\n",
              "spongiosis                                  0\n",
              "saw-tooth appearance of retes               0\n",
              "follicular horn plug                        0\n",
              "perifollicular parakeratosis                0\n",
              "inflammatory monoluclear inflitrate         0\n",
              "band-like infiltrate                        0\n",
              "Age                                         0\n",
              "class                                       0\n",
              "dtype: int64"
            ]
          },
          "metadata": {
            "tags": []
          },
          "execution_count": 15
        }
      ]
    },
    {
      "cell_type": "code",
      "metadata": {
        "id": "M5JQIGkRSQCO",
        "outputId": "8d5c9bc1-5a4e-46ef-a780-38e3abbaf7bb",
        "colab": {
          "base_uri": "https://localhost:8080/"
        }
      },
      "source": [
        "data_mv.info()"
      ],
      "execution_count": 16,
      "outputs": [
        {
          "output_type": "stream",
          "text": [
            "<class 'pandas.core.frame.DataFrame'>\n",
            "RangeIndex: 366 entries, 0 to 365\n",
            "Data columns (total 35 columns):\n",
            " #   Column                                    Non-Null Count  Dtype\n",
            "---  ------                                    --------------  -----\n",
            " 0   erythema                                  366 non-null    int64\n",
            " 1   scaling                                   366 non-null    int64\n",
            " 2   definite borders                          366 non-null    int64\n",
            " 3   itching                                   366 non-null    int64\n",
            " 4   koebner phenomenon                        366 non-null    int64\n",
            " 5   polygonal papules                         366 non-null    int64\n",
            " 6   follicular papules                        366 non-null    int64\n",
            " 7   oral mucosal involvement                  366 non-null    int64\n",
            " 8   knee and elbow involvement                366 non-null    int64\n",
            " 9   scalp involvement                         366 non-null    int64\n",
            " 10  family history                            366 non-null    int64\n",
            " 11  melanin incontinence                      366 non-null    int64\n",
            " 12  eosinophils in the infiltrate             366 non-null    int64\n",
            " 13  PNL infiltrate                            366 non-null    int64\n",
            " 14  fibrosis of the papillary dermis          366 non-null    int64\n",
            " 15  exocytosis                                366 non-null    int64\n",
            " 16  acanthosis                                366 non-null    int64\n",
            " 17  hyperkeratosis                            366 non-null    int64\n",
            " 18  parakeratosis                             366 non-null    int64\n",
            " 19  clubbing of the rete ridges               366 non-null    int64\n",
            " 20  elongation of the rete ridges             366 non-null    int64\n",
            " 21  thinning of the suprapapillary epidermis  366 non-null    int64\n",
            " 22  spongiform pustule                        366 non-null    int64\n",
            " 23  munro microabcess                         366 non-null    int64\n",
            " 24  focal hypergranulosis                     366 non-null    int64\n",
            " 25  disappearance of the granular layer       366 non-null    int64\n",
            " 26  vacuolisation and damage of basal layer   366 non-null    int64\n",
            " 27  spongiosis                                366 non-null    int64\n",
            " 28  saw-tooth appearance of retes             366 non-null    int64\n",
            " 29  follicular horn plug                      366 non-null    int64\n",
            " 30  perifollicular parakeratosis              366 non-null    int64\n",
            " 31  inflammatory monoluclear inflitrate       366 non-null    int64\n",
            " 32  band-like infiltrate                      366 non-null    int64\n",
            " 33  Age                                       366 non-null    int64\n",
            " 34  class                                     366 non-null    int64\n",
            "dtypes: int64(35)\n",
            "memory usage: 100.2 KB\n"
          ],
          "name": "stdout"
        }
      ]
    },
    {
      "cell_type": "code",
      "metadata": {
        "id": "W2-9fwPzQzgW",
        "outputId": "47d25fb3-bc65-4793-f81f-f4ed68e13d44",
        "colab": {
          "base_uri": "https://localhost:8080/",
          "height": 213
        }
      },
      "source": [
        "data_mv.head(3)"
      ],
      "execution_count": 17,
      "outputs": [
        {
          "output_type": "execute_result",
          "data": {
            "text/html": [
              "<div>\n",
              "<style scoped>\n",
              "    .dataframe tbody tr th:only-of-type {\n",
              "        vertical-align: middle;\n",
              "    }\n",
              "\n",
              "    .dataframe tbody tr th {\n",
              "        vertical-align: top;\n",
              "    }\n",
              "\n",
              "    .dataframe thead th {\n",
              "        text-align: right;\n",
              "    }\n",
              "</style>\n",
              "<table border=\"1\" class=\"dataframe\">\n",
              "  <thead>\n",
              "    <tr style=\"text-align: right;\">\n",
              "      <th></th>\n",
              "      <th>erythema</th>\n",
              "      <th>scaling</th>\n",
              "      <th>definite borders</th>\n",
              "      <th>itching</th>\n",
              "      <th>koebner phenomenon</th>\n",
              "      <th>polygonal papules</th>\n",
              "      <th>follicular papules</th>\n",
              "      <th>oral mucosal involvement</th>\n",
              "      <th>knee and elbow involvement</th>\n",
              "      <th>scalp involvement</th>\n",
              "      <th>family history</th>\n",
              "      <th>melanin incontinence</th>\n",
              "      <th>eosinophils in the infiltrate</th>\n",
              "      <th>PNL infiltrate</th>\n",
              "      <th>fibrosis of the papillary dermis</th>\n",
              "      <th>exocytosis</th>\n",
              "      <th>acanthosis</th>\n",
              "      <th>hyperkeratosis</th>\n",
              "      <th>parakeratosis</th>\n",
              "      <th>clubbing of the rete ridges</th>\n",
              "      <th>elongation of the rete ridges</th>\n",
              "      <th>thinning of the suprapapillary epidermis</th>\n",
              "      <th>spongiform pustule</th>\n",
              "      <th>munro microabcess</th>\n",
              "      <th>focal hypergranulosis</th>\n",
              "      <th>disappearance of the granular layer</th>\n",
              "      <th>vacuolisation and damage of basal layer</th>\n",
              "      <th>spongiosis</th>\n",
              "      <th>saw-tooth appearance of retes</th>\n",
              "      <th>follicular horn plug</th>\n",
              "      <th>perifollicular parakeratosis</th>\n",
              "      <th>inflammatory monoluclear inflitrate</th>\n",
              "      <th>band-like infiltrate</th>\n",
              "      <th>Age</th>\n",
              "      <th>class</th>\n",
              "    </tr>\n",
              "  </thead>\n",
              "  <tbody>\n",
              "    <tr>\n",
              "      <th>0</th>\n",
              "      <td>2</td>\n",
              "      <td>2</td>\n",
              "      <td>0</td>\n",
              "      <td>3</td>\n",
              "      <td>0</td>\n",
              "      <td>0</td>\n",
              "      <td>0</td>\n",
              "      <td>0</td>\n",
              "      <td>1</td>\n",
              "      <td>0</td>\n",
              "      <td>0</td>\n",
              "      <td>0</td>\n",
              "      <td>0</td>\n",
              "      <td>0</td>\n",
              "      <td>0</td>\n",
              "      <td>3</td>\n",
              "      <td>2</td>\n",
              "      <td>0</td>\n",
              "      <td>0</td>\n",
              "      <td>0</td>\n",
              "      <td>0</td>\n",
              "      <td>0</td>\n",
              "      <td>0</td>\n",
              "      <td>0</td>\n",
              "      <td>0</td>\n",
              "      <td>0</td>\n",
              "      <td>0</td>\n",
              "      <td>3</td>\n",
              "      <td>0</td>\n",
              "      <td>0</td>\n",
              "      <td>0</td>\n",
              "      <td>1</td>\n",
              "      <td>0</td>\n",
              "      <td>55</td>\n",
              "      <td>2</td>\n",
              "    </tr>\n",
              "    <tr>\n",
              "      <th>1</th>\n",
              "      <td>3</td>\n",
              "      <td>3</td>\n",
              "      <td>3</td>\n",
              "      <td>2</td>\n",
              "      <td>1</td>\n",
              "      <td>0</td>\n",
              "      <td>0</td>\n",
              "      <td>0</td>\n",
              "      <td>1</td>\n",
              "      <td>1</td>\n",
              "      <td>1</td>\n",
              "      <td>0</td>\n",
              "      <td>0</td>\n",
              "      <td>1</td>\n",
              "      <td>0</td>\n",
              "      <td>1</td>\n",
              "      <td>2</td>\n",
              "      <td>0</td>\n",
              "      <td>2</td>\n",
              "      <td>2</td>\n",
              "      <td>2</td>\n",
              "      <td>2</td>\n",
              "      <td>2</td>\n",
              "      <td>1</td>\n",
              "      <td>0</td>\n",
              "      <td>0</td>\n",
              "      <td>0</td>\n",
              "      <td>0</td>\n",
              "      <td>0</td>\n",
              "      <td>0</td>\n",
              "      <td>0</td>\n",
              "      <td>1</td>\n",
              "      <td>0</td>\n",
              "      <td>8</td>\n",
              "      <td>1</td>\n",
              "    </tr>\n",
              "    <tr>\n",
              "      <th>2</th>\n",
              "      <td>2</td>\n",
              "      <td>1</td>\n",
              "      <td>2</td>\n",
              "      <td>3</td>\n",
              "      <td>1</td>\n",
              "      <td>3</td>\n",
              "      <td>0</td>\n",
              "      <td>3</td>\n",
              "      <td>0</td>\n",
              "      <td>0</td>\n",
              "      <td>0</td>\n",
              "      <td>1</td>\n",
              "      <td>0</td>\n",
              "      <td>0</td>\n",
              "      <td>0</td>\n",
              "      <td>1</td>\n",
              "      <td>2</td>\n",
              "      <td>0</td>\n",
              "      <td>2</td>\n",
              "      <td>0</td>\n",
              "      <td>0</td>\n",
              "      <td>0</td>\n",
              "      <td>0</td>\n",
              "      <td>0</td>\n",
              "      <td>2</td>\n",
              "      <td>0</td>\n",
              "      <td>2</td>\n",
              "      <td>3</td>\n",
              "      <td>2</td>\n",
              "      <td>0</td>\n",
              "      <td>0</td>\n",
              "      <td>2</td>\n",
              "      <td>3</td>\n",
              "      <td>26</td>\n",
              "      <td>3</td>\n",
              "    </tr>\n",
              "  </tbody>\n",
              "</table>\n",
              "</div>"
            ],
            "text/plain": [
              "   erythema  scaling  definite borders  ...  band-like infiltrate  Age  class\n",
              "0         2        2                 0  ...                     0   55      2\n",
              "1         3        3                 3  ...                     0    8      1\n",
              "2         2        1                 2  ...                     3   26      3\n",
              "\n",
              "[3 rows x 35 columns]"
            ]
          },
          "metadata": {
            "tags": []
          },
          "execution_count": 17
        }
      ]
    },
    {
      "cell_type": "code",
      "metadata": {
        "id": "gdRP9SdSWzY7",
        "outputId": "6d3189b0-e80d-4b84-bba8-6e7d4f07233c",
        "colab": {
          "base_uri": "https://localhost:8080/"
        }
      },
      "source": [
        "data_mv['class'].unique()"
      ],
      "execution_count": 18,
      "outputs": [
        {
          "output_type": "execute_result",
          "data": {
            "text/plain": [
              "array([2, 1, 3, 5, 4, 6])"
            ]
          },
          "metadata": {
            "tags": []
          },
          "execution_count": 18
        }
      ]
    },
    {
      "cell_type": "code",
      "metadata": {
        "id": "ALwjWdCN1bbr"
      },
      "source": [
        "corr = data_mv.corr()"
      ],
      "execution_count": 19,
      "outputs": []
    },
    {
      "cell_type": "code",
      "metadata": {
        "id": "Tn0_4-_G2Dum",
        "outputId": "53fec673-5e23-4129-fbc5-ae203b0541d4",
        "colab": {
          "base_uri": "https://localhost:8080/",
          "height": 892
        }
      },
      "source": [
        "plt.figure(figsize=(12,12))\n",
        "sns.heatmap(corr, linewidths=.5, cmap='viridis')"
      ],
      "execution_count": 20,
      "outputs": [
        {
          "output_type": "execute_result",
          "data": {
            "text/plain": [
              "<matplotlib.axes._subplots.AxesSubplot at 0x7fa32ea54080>"
            ]
          },
          "metadata": {
            "tags": []
          },
          "execution_count": 20
        },
        {
          "output_type": "display_data",
          "data": {
            "image/png": "[encoded data removed]",
            "text/plain": [
              "<Figure size 864x864 with 2 Axes>"
            ]
          },
          "metadata": {
            "tags": [],
            "needs_background": "light"
          }
        }
      ]
    },
    {
      "cell_type": "markdown",
      "metadata": {
        "id": "MEI7ZRYBQsQW"
      },
      "source": [
        "##分割資料"
      ]
    },
    {
      "cell_type": "code",
      "metadata": {
        "id": "CwdB7it1QvVn"
      },
      "source": [
        "Y = data_mv['class'].values\n",
        "data_mv = data_mv.drop('class', 1)\n",
        "X = data_mv"
      ],
      "execution_count": 21,
      "outputs": []
    },
    {
      "cell_type": "code",
      "metadata": {
        "id": "kZ1TKdQSSq1f"
      },
      "source": [
        "X_train,X_test,Y_train,Y_test = train_test_split(X,Y, test_size = 0.2)"
      ],
      "execution_count": 22,
      "outputs": []
    },
    {
      "cell_type": "code",
      "metadata": {
        "id": "UHvyJAaeeobd",
        "outputId": "98393056-4cab-4637-a468-e293ca0636d9",
        "colab": {
          "base_uri": "https://localhost:8080/"
        }
      },
      "source": [
        "X_train.shape"
      ],
      "execution_count": 23,
      "outputs": [
        {
          "output_type": "execute_result",
          "data": {
            "text/plain": [
              "(292, 34)"
            ]
          },
          "metadata": {
            "tags": []
          },
          "execution_count": 23
        }
      ]
    },
    {
      "cell_type": "markdown",
      "metadata": {
        "id": "meqFH-rRTruw"
      },
      "source": [
        "##Logistic Regression"
      ]
    },
    {
      "cell_type": "code",
      "metadata": {
        "id": "zl75xy19WTEw"
      },
      "source": [
        "log = LogisticRegression()"
      ],
      "execution_count": 24,
      "outputs": []
    },
    {
      "cell_type": "code",
      "metadata": {
        "id": "BphSM0m1WW55",
        "outputId": "3e083648-4ea6-4c14-d439-47507efb69f6",
        "colab": {
          "base_uri": "https://localhost:8080/"
        }
      },
      "source": [
        "log.fit(X_train,Y_train)"
      ],
      "execution_count": 25,
      "outputs": [
        {
          "output_type": "stream",
          "text": [
            "/usr/local/lib/python3.6/dist-packages/sklearn/linear_model/_logistic.py:940: ConvergenceWarning: lbfgs failed to converge (status=1):\n",
            "STOP: TOTAL NO. of ITERATIONS REACHED LIMIT.\n",
            "\n",
            "Increase the number of iterations (max_iter) or scale the data as shown in:\n",
            "    https://scikit-learn.org/stable/modules/preprocessing.html\n",
            "Please also refer to the documentation for alternative solver options:\n",
            "    https://scikit-learn.org/stable/modules/linear_model.html#logistic-regression\n",
            "  extra_warning_msg=_LOGISTIC_SOLVER_CONVERGENCE_MSG)\n"
          ],
          "name": "stderr"
        },
        {
          "output_type": "execute_result",
          "data": {
            "text/plain": [
              "LogisticRegression(C=1.0, class_weight=None, dual=False, fit_intercept=True,\n",
              "                   intercept_scaling=1, l1_ratio=None, max_iter=100,\n",
              "                   multi_class='auto', n_jobs=None, penalty='l2',\n",
              "                   random_state=None, solver='lbfgs', tol=0.0001, verbose=0,\n",
              "                   warm_start=False)"
            ]
          },
          "metadata": {
            "tags": []
          },
          "execution_count": 25
        }
      ]
    },
    {
      "cell_type": "code",
      "metadata": {
        "id": "KQ8jqMNeWiwB"
      },
      "source": [
        "predictions = log.predict(X_test)"
      ],
      "execution_count": 26,
      "outputs": []
    },
    {
      "cell_type": "code",
      "metadata": {
        "id": "DGE1P-rUWoV6",
        "outputId": "255c7243-47cd-4851-c6f8-ea6d97ad9ef4",
        "colab": {
          "base_uri": "https://localhost:8080/"
        }
      },
      "source": [
        "predictions"
      ],
      "execution_count": 27,
      "outputs": [
        {
          "output_type": "execute_result",
          "data": {
            "text/plain": [
              "array([6, 6, 4, 3, 1, 6, 2, 3, 4, 6, 3, 5, 1, 3, 5, 3, 1, 1, 1, 2, 5, 1,\n",
              "       6, 6, 3, 3, 5, 1, 4, 2, 1, 4, 2, 1, 1, 3, 3, 2, 1, 2, 3, 3, 3, 5,\n",
              "       1, 3, 5, 1, 2, 5, 1, 3, 4, 2, 1, 4, 1, 6, 2, 2, 3, 5, 4, 2, 3, 2,\n",
              "       1, 1, 2, 4, 1, 1, 2, 1])"
            ]
          },
          "metadata": {
            "tags": []
          },
          "execution_count": 27
        }
      ]
    },
    {
      "cell_type": "code",
      "metadata": {
        "id": "DCJweQ-HWq6h",
        "outputId": "d12b2c08-8104-4d33-fe10-51e69f6312db",
        "colab": {
          "base_uri": "https://localhost:8080/"
        }
      },
      "source": [
        "log.score(X_test,Y_test)"
      ],
      "execution_count": 28,
      "outputs": [
        {
          "output_type": "execute_result",
          "data": {
            "text/plain": [
              "1.0"
            ]
          },
          "metadata": {
            "tags": []
          },
          "execution_count": 28
        }
      ]
    },
    {
      "cell_type": "markdown",
      "metadata": {
        "id": "35LU-DA2Xujs"
      },
      "source": [
        "# Naive Bayes"
      ]
    },
    {
      "cell_type": "markdown",
      "metadata": {
        "id": "yBKZtAIWf3pV"
      },
      "source": [
        "Gaussian naive Bayes"
      ]
    },
    {
      "cell_type": "code",
      "metadata": {
        "id": "hI5ykF_XdSjt"
      },
      "source": [
        "from sklearn.naive_bayes import GaussianNB"
      ],
      "execution_count": 29,
      "outputs": []
    },
    {
      "cell_type": "code",
      "metadata": {
        "id": "q3PEyWz3hcE9"
      },
      "source": [
        "gnb = GaussianNB()"
      ],
      "execution_count": 30,
      "outputs": []
    },
    {
      "cell_type": "code",
      "metadata": {
        "id": "j8fSAa29hwgu",
        "outputId": "8c7342d2-8b5e-4dec-9350-5f8d319fba6e",
        "colab": {
          "base_uri": "https://localhost:8080/"
        }
      },
      "source": [
        "gnb.fit(X_train, Y_train)"
      ],
      "execution_count": 31,
      "outputs": [
        {
          "output_type": "execute_result",
          "data": {
            "text/plain": [
              "GaussianNB(priors=None, var_smoothing=1e-09)"
            ]
          },
          "metadata": {
            "tags": []
          },
          "execution_count": 31
        }
      ]
    },
    {
      "cell_type": "code",
      "metadata": {
        "id": "-URiR2Q9h1OQ",
        "outputId": "989ff68b-98d6-4982-e4b9-7c16c5effff8",
        "colab": {
          "base_uri": "https://localhost:8080/"
        }
      },
      "source": [
        "gnb.score(X_test, Y_test)"
      ],
      "execution_count": 32,
      "outputs": [
        {
          "output_type": "execute_result",
          "data": {
            "text/plain": [
              "0.8378378378378378"
            ]
          },
          "metadata": {
            "tags": []
          },
          "execution_count": 32
        }
      ]
    },
    {
      "cell_type": "markdown",
      "metadata": {
        "id": "AFHAo5eSjR4g"
      },
      "source": [
        "Percision Score"
      ]
    },
    {
      "cell_type": "code",
      "metadata": {
        "id": "r-tyjx0ulF5n"
      },
      "source": [
        "from sklearn.metrics import precision_score"
      ],
      "execution_count": 43,
      "outputs": []
    },
    {
      "cell_type": "code",
      "metadata": {
        "id": "o_qWsD96lIi9"
      },
      "source": [
        "from sklearn.metrics import recall_score"
      ],
      "execution_count": 44,
      "outputs": []
    },
    {
      "cell_type": "code",
      "metadata": {
        "id": "oYeCzup4jW_p",
        "outputId": "dd51eb9f-cce6-4c4e-bae0-6b839f23bb0a",
        "colab": {
          "base_uri": "https://localhost:8080/"
        }
      },
      "source": [
        "precision_score(Y_test,log.predict(X_test),pos_label='positive',average='micro')"
      ],
      "execution_count": 46,
      "outputs": [
        {
          "output_type": "stream",
          "text": [
            "/usr/local/lib/python3.6/dist-packages/sklearn/metrics/_classification.py:1321: UserWarning: Note that pos_label (set to 'positive') is ignored when average != 'binary' (got 'micro'). You may use labels=[pos_label] to specify a single positive class.\n",
            "  % (pos_label, average), UserWarning)\n"
          ],
          "name": "stderr"
        },
        {
          "output_type": "execute_result",
          "data": {
            "text/plain": [
              "1.0"
            ]
          },
          "metadata": {
            "tags": []
          },
          "execution_count": 46
        }
      ]
    },
    {
      "cell_type": "code",
      "metadata": {
        "id": "bONfHXBflWDx",
        "outputId": "12a0c525-c6e7-4bf4-ded1-e0473871dadd",
        "colab": {
          "base_uri": "https://localhost:8080/"
        }
      },
      "source": [
        "recall_score(Y_test, log.predict(X_test), average='micro')"
      ],
      "execution_count": 50,
      "outputs": [
        {
          "output_type": "execute_result",
          "data": {
            "text/plain": [
              "1.0"
            ]
          },
          "metadata": {
            "tags": []
          },
          "execution_count": 50
        }
      ]
    },
    {
      "cell_type": "markdown",
      "metadata": {
        "id": "Ut8A1jLeh9Er"
      },
      "source": [
        "#Logistic Regrssion v.s. GNB\n",
        "\n"
      ]
    },
    {
      "cell_type": "code",
      "metadata": {
        "id": "tWTR0vlkkEEY"
      },
      "source": [
        "Y_lr_score = log.predict_proba(X_test)\n",
        "Y_gnb_score = gnb.predict_proba(X_test)"
      ],
      "execution_count": 33,
      "outputs": []
    },
    {
      "cell_type": "code",
      "metadata": {
        "id": "scbAwMvzmlVF"
      },
      "source": [
        "from sklearn.metrics import roc_curve, auc\n",
        "from scipy import interp"
      ],
      "execution_count": 34,
      "outputs": []
    },
    {
      "cell_type": "code",
      "metadata": {
        "id": "XS_iWOoBaNex"
      },
      "source": [
        "Y_scores = log.decision_function(X_test)\n",
        "fpr_gnb, tpr_gnb,thresholds_gnb = roc_curve(Y_test, Y_gnb_score[:,1],pos_label=6)"
      ],
      "execution_count": 35,
      "outputs": []
    },
    {
      "cell_type": "code",
      "metadata": {
        "id": "51qZznzxadG1",
        "outputId": "bc1c98e5-b75a-487a-e5e8-56a3b76db97e",
        "colab": {
          "base_uri": "https://localhost:8080/"
        }
      },
      "source": [
        "fpr_gnb"
      ],
      "execution_count": 36,
      "outputs": [
        {
          "output_type": "execute_result",
          "data": {
            "text/plain": [
              "array([0.        , 0.02985075, 0.26865672, 0.26865672, 1.        ])"
            ]
          },
          "metadata": {
            "tags": []
          },
          "execution_count": 36
        }
      ]
    },
    {
      "cell_type": "code",
      "metadata": {
        "id": "EAMPEesXdY8b",
        "outputId": "2a603ad4-f675-4662-b74a-548c7cafe2d3",
        "colab": {
          "base_uri": "https://localhost:8080/"
        }
      },
      "source": [
        "tpr_gnb"
      ],
      "execution_count": 37,
      "outputs": [
        {
          "output_type": "execute_result",
          "data": {
            "text/plain": [
              "array([0.        , 0.14285714, 0.14285714, 1.        , 1.        ])"
            ]
          },
          "metadata": {
            "tags": []
          },
          "execution_count": 37
        }
      ]
    },
    {
      "cell_type": "code",
      "metadata": {
        "id": "QOHF1eOEda7I",
        "outputId": "55f2fec3-4a2a-43ed-c1d7-b6a94c35396b",
        "colab": {
          "base_uri": "https://localhost:8080/"
        }
      },
      "source": [
        "auc(fpr_gnb,tpr_gnb)"
      ],
      "execution_count": 38,
      "outputs": [
        {
          "output_type": "execute_result",
          "data": {
            "text/plain": [
              "0.767590618336887"
            ]
          },
          "metadata": {
            "tags": []
          },
          "execution_count": 38
        }
      ]
    },
    {
      "cell_type": "code",
      "metadata": {
        "id": "wWypof0ddkKl",
        "outputId": "3b68b4d9-8e56-4832-c564-4bcb304700f8",
        "colab": {
          "base_uri": "https://localhost:8080/",
          "height": 530
        }
      },
      "source": [
        "plt.figure(figsize=(8, 8))\n",
        "plt.plot(fpr_gnb, tpr_gnb, color='red', label='GNB (AUC: %.2f)' % auc(fpr_gnb, tpr_gnb))\n",
        "plt.plot([0, 1], [0, 1], color='blue', linestyle='--')\n",
        "plt.xlim([0.0, 1.0])\n",
        "plt.ylim([0.0, 1.01])\n",
        "plt.ylim([0.0, 1.01])\n",
        "plt.title('ROC Curve')\n",
        "plt.xlabel('False Positive Rate')\n",
        "plt.ylabel('True Positive Rate')\n",
        "plt.legend(loc=\"lower right\")"
      ],
      "execution_count": 39,
      "outputs": [
        {
          "output_type": "execute_result",
          "data": {
            "text/plain": [
              "<matplotlib.legend.Legend at 0x7fa32be1add8>"
            ]
          },
          "metadata": {
            "tags": []
          },
          "execution_count": 39
        },
        {
          "output_type": "display_data",
          "data": {
            "image/png": "[encoded data removed]",
            "text/plain": [
              "<Figure size 576x576 with 1 Axes>"
            ]
          },
          "metadata": {
            "tags": [],
            "needs_background": "light"
          }
        }
      ]
    },
    {
      "cell_type": "code",
      "metadata": {
        "id": "Sf_uUSEWdiDz"
      },
      "source": [
        "fpr_lrg, tpr_lrg,thresholds_lrg = roc_curve(Y_test, Y_lr_score[:,1],pos_label=6)"
      ],
      "execution_count": 40,
      "outputs": []
    },
    {
      "cell_type": "code",
      "metadata": {
        "id": "BptesBiPduYF",
        "outputId": "532efa09-b8d6-467e-f1b0-311d1bcc8485",
        "colab": {
          "base_uri": "https://localhost:8080/",
          "height": 530
        }
      },
      "source": [
        "plt.figure(figsize=(8, 8))\n",
        "plt.plot(fpr_lrg, tpr_lrg, color='red', label='Logistic regression (AUC: %.2f)' % auc(fpr_lrg, tpr_lrg))\n",
        "plt.plot([0, 1], [0, 1], color='blue', linestyle='--')\n",
        "plt.xlim([0.0, 1.0])\n",
        "plt.ylim([0.0, 1.01])\n",
        "plt.ylim([0.0, 1.01])\n",
        "plt.title('ROC Curve')\n",
        "plt.xlabel('False Positive Rate')\n",
        "plt.ylabel('True Positive Rate')\n",
        "plt.legend(loc=\"lower right\")"
      ],
      "execution_count": 41,
      "outputs": [
        {
          "output_type": "execute_result",
          "data": {
            "text/plain": [
              "<matplotlib.legend.Legend at 0x7fa32a08bc50>"
            ]
          },
          "metadata": {
            "tags": []
          },
          "execution_count": 41
        },
        {
          "output_type": "display_data",
          "data": {
            "image/png": "[encoded data removed]",
            "text/plain": [
              "<Figure size 576x576 with 1 Axes>"
            ]
          },
          "metadata": {
            "tags": [],
            "needs_background": "light"
          }
        }
      ]
    }
  ]
}